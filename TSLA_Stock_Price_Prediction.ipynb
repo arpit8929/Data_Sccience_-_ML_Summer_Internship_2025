{
 "cells": [
  {
   "cell_type": "markdown",
   "id": "749bbf3a-51c6-4f3d-88dd-2f53632ef41c",
   "metadata": {},
   "source": [
    "# Predicting Tesla Inc. (TSLA) stock prices using historical data"
   ]
  },
  {
   "cell_type": "markdown",
   "id": "18539cdf-0a7d-4cdc-88f1-5dff462d0e3a",
   "metadata": {
    "id": "18539cdf-0a7d-4cdc-88f1-5dff462d0e3a"
   },
   "source": [
    "## Introduction\n",
    "Stock price prediction is a challenging task due to the inherently volatile and non-linear nature of financial markets. This project focuses on predicting Tesla Inc. (TSLA) stock prices using historical data obtained from Yahoo Finance. By leveraging time series forecasting techniques and machine learning models, we aim to capture trends and patterns that can assist in future price estimation. The dataset includes features such as historical closing prices, lagged values, and technical indicators like moving averages. We employ and compare the performance of three models—Linear Regression, Decision Tree Regressor, and Random Forest Regressor—using a time-based 80/20 train-test split. Model performance is evaluated using metrics such as Mean Absolute Error (MAE), Mean Squared Error (MSE), Root Mean Squared Error (RMSE), and the Coefficient of Determination (R²). Additionally, feature importance analysis helps us understand which inputs contribute most to the predictive power of our models."
   ]
  },
  {
   "cell_type": "code",
   "execution_count": 1,
   "id": "2c3bcd28-fdc6-42d1-80c3-b8e595bfd823",
   "metadata": {
    "id": "2c3bcd28-fdc6-42d1-80c3-b8e595bfd823",
    "scrolled": true
   },
   "outputs": [
    {
     "name": "stdout",
     "output_type": "stream",
     "text": [
      "Requirement already satisfied: yfinance in c:\\users\\arpit\\appdata\\local\\programs\\python\\python312\\lib\\site-packages (0.2.63)\n",
      "Requirement already satisfied: scikit-learn in c:\\users\\arpit\\appdata\\local\\programs\\python\\python312\\lib\\site-packages (1.7.0)\n",
      "Requirement already satisfied: matplotlib in c:\\users\\arpit\\appdata\\local\\programs\\python\\python312\\lib\\site-packages (3.10.3)\n",
      "Requirement already satisfied: seaborn in c:\\users\\arpit\\appdata\\local\\programs\\python\\python312\\lib\\site-packages (0.13.2)\n",
      "Requirement already satisfied: pandas in c:\\users\\arpit\\appdata\\local\\programs\\python\\python312\\lib\\site-packages (2.3.0)\n",
      "Requirement already satisfied: numpy>=1.16.5 in c:\\users\\arpit\\appdata\\local\\programs\\python\\python312\\lib\\site-packages (from yfinance) (2.1.3)\n",
      "Requirement already satisfied: requests>=2.31 in c:\\users\\arpit\\appdata\\local\\programs\\python\\python312\\lib\\site-packages (from yfinance) (2.32.3)\n",
      "Requirement already satisfied: multitasking>=0.0.7 in c:\\users\\arpit\\appdata\\local\\programs\\python\\python312\\lib\\site-packages (from yfinance) (0.0.11)\n",
      "Requirement already satisfied: platformdirs>=2.0.0 in c:\\users\\arpit\\appdata\\local\\programs\\python\\python312\\lib\\site-packages (from yfinance) (4.3.8)\n",
      "Requirement already satisfied: pytz>=2022.5 in c:\\users\\arpit\\appdata\\local\\programs\\python\\python312\\lib\\site-packages (from yfinance) (2025.2)\n",
      "Requirement already satisfied: frozendict>=2.3.4 in c:\\users\\arpit\\appdata\\local\\programs\\python\\python312\\lib\\site-packages (from yfinance) (2.4.6)\n",
      "Requirement already satisfied: peewee>=3.16.2 in c:\\users\\arpit\\appdata\\local\\programs\\python\\python312\\lib\\site-packages (from yfinance) (3.18.1)\n",
      "Requirement already satisfied: beautifulsoup4>=4.11.1 in c:\\users\\arpit\\appdata\\local\\programs\\python\\python312\\lib\\site-packages (from yfinance) (4.13.4)\n",
      "Requirement already satisfied: curl_cffi>=0.7 in c:\\users\\arpit\\appdata\\local\\programs\\python\\python312\\lib\\site-packages (from yfinance) (0.11.3)\n",
      "Requirement already satisfied: protobuf>=3.19.0 in c:\\users\\arpit\\appdata\\local\\programs\\python\\python312\\lib\\site-packages (from yfinance) (5.29.5)\n",
      "Requirement already satisfied: websockets>=13.0 in c:\\users\\arpit\\appdata\\local\\programs\\python\\python312\\lib\\site-packages (from yfinance) (15.0.1)\n",
      "Requirement already satisfied: scipy>=1.8.0 in c:\\users\\arpit\\appdata\\local\\programs\\python\\python312\\lib\\site-packages (from scikit-learn) (1.15.3)\n",
      "Requirement already satisfied: joblib>=1.2.0 in c:\\users\\arpit\\appdata\\local\\programs\\python\\python312\\lib\\site-packages (from scikit-learn) (1.5.1)\n",
      "Requirement already satisfied: threadpoolctl>=3.1.0 in c:\\users\\arpit\\appdata\\local\\programs\\python\\python312\\lib\\site-packages (from scikit-learn) (3.6.0)\n",
      "Requirement already satisfied: contourpy>=1.0.1 in c:\\users\\arpit\\appdata\\local\\programs\\python\\python312\\lib\\site-packages (from matplotlib) (1.3.2)\n",
      "Requirement already satisfied: cycler>=0.10 in c:\\users\\arpit\\appdata\\local\\programs\\python\\python312\\lib\\site-packages (from matplotlib) (0.12.1)\n",
      "Requirement already satisfied: fonttools>=4.22.0 in c:\\users\\arpit\\appdata\\local\\programs\\python\\python312\\lib\\site-packages (from matplotlib) (4.58.1)\n",
      "Requirement already satisfied: kiwisolver>=1.3.1 in c:\\users\\arpit\\appdata\\local\\programs\\python\\python312\\lib\\site-packages (from matplotlib) (1.4.8)\n",
      "Requirement already satisfied: packaging>=20.0 in c:\\users\\arpit\\appdata\\local\\programs\\python\\python312\\lib\\site-packages (from matplotlib) (25.0)\n",
      "Requirement already satisfied: pillow>=8 in c:\\users\\arpit\\appdata\\local\\programs\\python\\python312\\lib\\site-packages (from matplotlib) (11.2.1)\n",
      "Requirement already satisfied: pyparsing>=2.3.1 in c:\\users\\arpit\\appdata\\local\\programs\\python\\python312\\lib\\site-packages (from matplotlib) (3.2.3)\n",
      "Requirement already satisfied: python-dateutil>=2.7 in c:\\users\\arpit\\appdata\\local\\programs\\python\\python312\\lib\\site-packages (from matplotlib) (2.9.0.post0)\n",
      "Requirement already satisfied: tzdata>=2022.7 in c:\\users\\arpit\\appdata\\local\\programs\\python\\python312\\lib\\site-packages (from pandas) (2025.2)\n",
      "Requirement already satisfied: soupsieve>1.2 in c:\\users\\arpit\\appdata\\local\\programs\\python\\python312\\lib\\site-packages (from beautifulsoup4>=4.11.1->yfinance) (2.7)\n",
      "Requirement already satisfied: typing-extensions>=4.0.0 in c:\\users\\arpit\\appdata\\local\\programs\\python\\python312\\lib\\site-packages (from beautifulsoup4>=4.11.1->yfinance) (4.14.0)\n",
      "Requirement already satisfied: cffi>=1.12.0 in c:\\users\\arpit\\appdata\\local\\programs\\python\\python312\\lib\\site-packages (from curl_cffi>=0.7->yfinance) (1.17.1)\n",
      "Requirement already satisfied: certifi>=2024.2.2 in c:\\users\\arpit\\appdata\\local\\programs\\python\\python312\\lib\\site-packages (from curl_cffi>=0.7->yfinance) (2025.4.26)\n",
      "Requirement already satisfied: six>=1.5 in c:\\users\\arpit\\appdata\\local\\programs\\python\\python312\\lib\\site-packages (from python-dateutil>=2.7->matplotlib) (1.17.0)\n",
      "Requirement already satisfied: charset-normalizer<4,>=2 in c:\\users\\arpit\\appdata\\local\\programs\\python\\python312\\lib\\site-packages (from requests>=2.31->yfinance) (3.4.2)\n",
      "Requirement already satisfied: idna<4,>=2.5 in c:\\users\\arpit\\appdata\\local\\programs\\python\\python312\\lib\\site-packages (from requests>=2.31->yfinance) (3.10)\n",
      "Requirement already satisfied: urllib3<3,>=1.21.1 in c:\\users\\arpit\\appdata\\local\\programs\\python\\python312\\lib\\site-packages (from requests>=2.31->yfinance) (2.4.0)\n",
      "Requirement already satisfied: pycparser in c:\\users\\arpit\\appdata\\local\\programs\\python\\python312\\lib\\site-packages (from cffi>=1.12.0->curl_cffi>=0.7->yfinance) (2.22)\n",
      "Note: you may need to restart the kernel to use updated packages.\n"
     ]
    },
    {
     "name": "stderr",
     "output_type": "stream",
     "text": [
      "\n",
      "[notice] A new release of pip is available: 25.0.1 -> 25.2\n",
      "[notice] To update, run: python.exe -m pip install --upgrade pip\n"
     ]
    }
   ],
   "source": [
    "pip install yfinance scikit-learn matplotlib seaborn pandas"
   ]
  },
  {
   "cell_type": "code",
   "execution_count": 2,
   "id": "7891d716-c9c4-4807-b54c-a7f737021935",
   "metadata": {
    "id": "7891d716-c9c4-4807-b54c-a7f737021935"
   },
   "outputs": [],
   "source": [
    "import yfinance as yf\n",
    "import pandas as pd"
   ]
  },
  {
   "cell_type": "code",
   "execution_count": 3,
   "id": "a84681d4-ba66-428b-a50b-19918ef0840c",
   "metadata": {
    "id": "a84681d4-ba66-428b-a50b-19918ef0840c",
    "outputId": "0ea5be0c-b44e-44ac-d6e2-5053589a41ba"
   },
   "outputs": [
    {
     "name": "stderr",
     "output_type": "stream",
     "text": [
      "C:\\Users\\arpit\\AppData\\Local\\Temp\\ipykernel_18892\\700946934.py:2: FutureWarning: YF.download() has changed argument auto_adjust default to True\n",
      "  tsla_data = yf.download('TSLA', start='2015-01-01', end='2024-12-31')\n",
      "[*********************100%***********************]  1 of 1 completed\n"
     ]
    }
   ],
   "source": [
    "# Download TSLA data from Yahoo Finance\n",
    "tsla_data = yf.download('TSLA', start='2015-01-01', end='2024-12-31')"
   ]
  },
  {
   "cell_type": "code",
   "execution_count": 4,
   "id": "b3410c0f-1b03-4c86-ae0a-3d2b3c715dbe",
   "metadata": {
    "id": "b3410c0f-1b03-4c86-ae0a-3d2b3c715dbe"
   },
   "outputs": [],
   "source": [
    "tsla_data.reset_index(inplace=True)"
   ]
  },
  {
   "cell_type": "code",
   "execution_count": 5,
   "id": "19fd1261-36d8-43ce-8dd7-25aa221ed6f6",
   "metadata": {
    "id": "19fd1261-36d8-43ce-8dd7-25aa221ed6f6",
    "outputId": "51fbe315-9513-41d1-a5ae-32741f07f327"
   },
   "outputs": [
    {
     "data": {
      "text/html": [
       "<div>\n",
       "<style scoped>\n",
       "    .dataframe tbody tr th:only-of-type {\n",
       "        vertical-align: middle;\n",
       "    }\n",
       "\n",
       "    .dataframe tbody tr th {\n",
       "        vertical-align: top;\n",
       "    }\n",
       "\n",
       "    .dataframe thead tr th {\n",
       "        text-align: left;\n",
       "    }\n",
       "</style>\n",
       "<table border=\"1\" class=\"dataframe\">\n",
       "  <thead>\n",
       "    <tr>\n",
       "      <th>Price</th>\n",
       "      <th>Date</th>\n",
       "      <th>Close</th>\n",
       "      <th>High</th>\n",
       "      <th>Low</th>\n",
       "      <th>Open</th>\n",
       "      <th>Volume</th>\n",
       "    </tr>\n",
       "    <tr>\n",
       "      <th>Ticker</th>\n",
       "      <th></th>\n",
       "      <th>TSLA</th>\n",
       "      <th>TSLA</th>\n",
       "      <th>TSLA</th>\n",
       "      <th>TSLA</th>\n",
       "      <th>TSLA</th>\n",
       "    </tr>\n",
       "  </thead>\n",
       "  <tbody>\n",
       "    <tr>\n",
       "      <th>0</th>\n",
       "      <td>2015-01-02</td>\n",
       "      <td>14.620667</td>\n",
       "      <td>14.883333</td>\n",
       "      <td>14.217333</td>\n",
       "      <td>14.858000</td>\n",
       "      <td>71466000</td>\n",
       "    </tr>\n",
       "    <tr>\n",
       "      <th>1</th>\n",
       "      <td>2015-01-05</td>\n",
       "      <td>14.006000</td>\n",
       "      <td>14.433333</td>\n",
       "      <td>13.810667</td>\n",
       "      <td>14.303333</td>\n",
       "      <td>80527500</td>\n",
       "    </tr>\n",
       "    <tr>\n",
       "      <th>2</th>\n",
       "      <td>2015-01-06</td>\n",
       "      <td>14.085333</td>\n",
       "      <td>14.280000</td>\n",
       "      <td>13.614000</td>\n",
       "      <td>14.004000</td>\n",
       "      <td>93928500</td>\n",
       "    </tr>\n",
       "    <tr>\n",
       "      <th>3</th>\n",
       "      <td>2015-01-07</td>\n",
       "      <td>14.063333</td>\n",
       "      <td>14.318667</td>\n",
       "      <td>13.985333</td>\n",
       "      <td>14.223333</td>\n",
       "      <td>44526000</td>\n",
       "    </tr>\n",
       "    <tr>\n",
       "      <th>4</th>\n",
       "      <td>2015-01-08</td>\n",
       "      <td>14.041333</td>\n",
       "      <td>14.253333</td>\n",
       "      <td>14.000667</td>\n",
       "      <td>14.187333</td>\n",
       "      <td>51637500</td>\n",
       "    </tr>\n",
       "  </tbody>\n",
       "</table>\n",
       "</div>"
      ],
      "text/plain": [
       "Price        Date      Close       High        Low       Open    Volume\n",
       "Ticker                  TSLA       TSLA       TSLA       TSLA      TSLA\n",
       "0      2015-01-02  14.620667  14.883333  14.217333  14.858000  71466000\n",
       "1      2015-01-05  14.006000  14.433333  13.810667  14.303333  80527500\n",
       "2      2015-01-06  14.085333  14.280000  13.614000  14.004000  93928500\n",
       "3      2015-01-07  14.063333  14.318667  13.985333  14.223333  44526000\n",
       "4      2015-01-08  14.041333  14.253333  14.000667  14.187333  51637500"
      ]
     },
     "execution_count": 5,
     "metadata": {},
     "output_type": "execute_result"
    }
   ],
   "source": [
    "tsla_data.head()"
   ]
  },
  {
   "cell_type": "markdown",
   "id": "688eaf5b-5c96-4148-9ff3-41963f3dd59f",
   "metadata": {
    "id": "688eaf5b-5c96-4148-9ff3-41963f3dd59f"
   },
   "source": [
    "#### Feature Engineering (Lag Features & Technical Indicators)"
   ]
  },
  {
   "cell_type": "code",
   "execution_count": 6,
   "id": "8bc71e14-f117-41a7-8666-5c7c018f24eb",
   "metadata": {
    "id": "8bc71e14-f117-41a7-8666-5c7c018f24eb"
   },
   "outputs": [],
   "source": [
    "# Lag Features\n",
    "tsla_data['Close_Lag1'] = tsla_data['Close'].shift(1)\n",
    "tsla_data['Close_Lag2'] = tsla_data['Close'].shift(2)"
   ]
  },
  {
   "cell_type": "code",
   "execution_count": 7,
   "id": "ec1ea615-b157-43d5-8fcd-a27aef8d2466",
   "metadata": {
    "id": "ec1ea615-b157-43d5-8fcd-a27aef8d2466"
   },
   "outputs": [],
   "source": [
    "# Technical Indicators: Moving Averages\n",
    "tsla_data['MA7'] = tsla_data['Close'].rolling(window=7).mean()\n",
    "tsla_data['MA21'] = tsla_data['Close'].rolling(window=21).mean()"
   ]
  },
  {
   "cell_type": "code",
   "execution_count": 8,
   "id": "524b21b8-084e-45eb-b69b-17dc80a84995",
   "metadata": {
    "id": "524b21b8-084e-45eb-b69b-17dc80a84995"
   },
   "outputs": [],
   "source": [
    "# Drop rows with NaNs (due to lagging and rolling)\n",
    "tsla_data.dropna(inplace=True)"
   ]
  },
  {
   "cell_type": "code",
   "execution_count": 9,
   "id": "1979a351-7650-48ea-9469-cd9b80ee530c",
   "metadata": {
    "id": "1979a351-7650-48ea-9469-cd9b80ee530c"
   },
   "outputs": [],
   "source": [
    "# Set target\n",
    "tsla_data['Target'] = tsla_data['Close']"
   ]
  },
  {
   "cell_type": "markdown",
   "id": "31bc1237-7ee8-4e91-a253-dd31a8e21db1",
   "metadata": {
    "id": "31bc1237-7ee8-4e91-a253-dd31a8e21db1"
   },
   "source": [
    "#### Train-Test Split (Time-Based 80/20)"
   ]
  },
  {
   "cell_type": "code",
   "execution_count": 10,
   "id": "4d377013-5507-4a45-844d-fe379ed27ddc",
   "metadata": {
    "id": "4d377013-5507-4a45-844d-fe379ed27ddc"
   },
   "outputs": [],
   "source": [
    "# Time-based split\n",
    "train_size = int(len(tsla_data) * 0.8)\n",
    "train = tsla_data[:train_size]\n",
    "test = tsla_data[train_size:]"
   ]
  },
  {
   "cell_type": "code",
   "execution_count": 11,
   "id": "d212d2c0-1333-4623-8f48-5afb9a84d6f2",
   "metadata": {
    "id": "d212d2c0-1333-4623-8f48-5afb9a84d6f2"
   },
   "outputs": [],
   "source": [
    "# Features and Target\n",
    "features = ['Close_Lag1', 'Close_Lag2', 'MA7', 'MA21']\n",
    "X_train = train[features]\n",
    "y_train = train['Target']\n",
    "X_test = test[features]\n",
    "y_test = test['Target']"
   ]
  },
  {
   "cell_type": "markdown",
   "id": "cc54cd7e-876a-451b-9b63-fcae15481727",
   "metadata": {
    "id": "cc54cd7e-876a-451b-9b63-fcae15481727"
   },
   "source": [
    "#### Linear Regression Model"
   ]
  },
  {
   "cell_type": "code",
   "execution_count": 12,
   "id": "7bc40b2b-b816-41d0-96fe-1f1d2d9972fe",
   "metadata": {
    "id": "7bc40b2b-b816-41d0-96fe-1f1d2d9972fe"
   },
   "outputs": [],
   "source": [
    "from sklearn.linear_model import LinearRegression\n",
    "from sklearn.metrics import mean_absolute_error, mean_squared_error, r2_score\n",
    "import numpy as np"
   ]
  },
  {
   "cell_type": "code",
   "execution_count": 13,
   "id": "3c79b290-d5da-4587-ab46-3dc2bc3c53e8",
   "metadata": {
    "id": "3c79b290-d5da-4587-ab46-3dc2bc3c53e8"
   },
   "outputs": [],
   "source": [
    "# Train Linear Regression\n",
    "lr_model = LinearRegression()\n",
    "lr_model.fit(X_train, y_train)\n",
    "y_pred_lr = lr_model.predict(X_test)"
   ]
  },
  {
   "cell_type": "code",
   "execution_count": 14,
   "id": "8835e26d-0757-4c9b-b85f-71c735665c84",
   "metadata": {
    "id": "8835e26d-0757-4c9b-b85f-71c735665c84"
   },
   "outputs": [],
   "source": [
    "# Evaluation\n",
    "mae = mean_absolute_error(y_test, y_pred_lr)\n",
    "mse = mean_squared_error(y_test, y_pred_lr)\n",
    "rmse = np.sqrt(mse)\n",
    "r2 = r2_score(y_test, y_pred_lr)"
   ]
  },
  {
   "cell_type": "code",
   "execution_count": 15,
   "id": "9c47613b-6a07-43d9-bc44-fe228c90ffa4",
   "metadata": {
    "id": "9c47613b-6a07-43d9-bc44-fe228c90ffa4",
    "outputId": "3b8c89fe-3b54-4a15-af1a-6bd4be8e1a88"
   },
   "outputs": [
    {
     "name": "stdout",
     "output_type": "stream",
     "text": [
      "Linear Regression Performance:\n",
      "MAE: 5.89, MSE: 69.49, RMSE: 8.34, R²: 0.9792\n"
     ]
    }
   ],
   "source": [
    "print(\"Linear Regression Performance:\")\n",
    "print(f\"MAE: {mae:.2f}, MSE: {mse:.2f}, RMSE: {rmse:.2f}, R²: {r2:.4f}\")"
   ]
  },
  {
   "cell_type": "markdown",
   "id": "b3e25771-12fd-4694-97ee-b2bb3d734b51",
   "metadata": {
    "id": "b3e25771-12fd-4694-97ee-b2bb3d734b51"
   },
   "source": [
    "#### Decision Tree Regressor"
   ]
  },
  {
   "cell_type": "code",
   "execution_count": 16,
   "id": "a8d78280-c62e-400d-b6bd-fc760a978b87",
   "metadata": {
    "id": "a8d78280-c62e-400d-b6bd-fc760a978b87"
   },
   "outputs": [],
   "source": [
    "from sklearn.tree import DecisionTreeRegressor\n",
    "from sklearn.model_selection import GridSearchCV"
   ]
  },
  {
   "cell_type": "code",
   "execution_count": 17,
   "id": "7619f419-613e-449e-83eb-4a21bd3a42f5",
   "metadata": {
    "id": "7619f419-613e-449e-83eb-4a21bd3a42f5"
   },
   "outputs": [],
   "source": [
    "# Hyperparameter Tuning\n",
    "param_grid = {'max_depth': [3, 5, 10, None], 'min_samples_split': [2, 5, 10]}\n",
    "tree = DecisionTreeRegressor(random_state=42)\n",
    "grid_tree = GridSearchCV(tree, param_grid, cv=3)\n",
    "grid_tree.fit(X_train, y_train)\n",
    "y_pred_tree = grid_tree.predict(X_test)"
   ]
  },
  {
   "cell_type": "code",
   "execution_count": 18,
   "id": "542f1370-cfa8-42fd-934f-8d1934fcc5d7",
   "metadata": {
    "id": "542f1370-cfa8-42fd-934f-8d1934fcc5d7"
   },
   "outputs": [],
   "source": [
    "# Evaluation\n",
    "mae_tree = mean_absolute_error(y_test, y_pred_tree)\n",
    "mse_tree = mean_squared_error(y_test, y_pred_tree)\n",
    "rmse_tree = np.sqrt(mse_tree)\n",
    "r2_tree = r2_score(y_test, y_pred_tree)"
   ]
  },
  {
   "cell_type": "code",
   "execution_count": 19,
   "id": "24d96d7d-071a-4ab7-b0e0-f20d722ae3a5",
   "metadata": {
    "id": "24d96d7d-071a-4ab7-b0e0-f20d722ae3a5",
    "outputId": "37216db4-d378-4660-cf20-3b6818bd6a91"
   },
   "outputs": [
    {
     "name": "stdout",
     "output_type": "stream",
     "text": [
      "Decision Tree Performance:\n",
      "MAE: 8.81, MSE: 161.56, RMSE: 12.71, R²: 0.9516\n"
     ]
    }
   ],
   "source": [
    "print(\"Decision Tree Performance:\")\n",
    "print(f\"MAE: {mae_tree:.2f}, MSE: {mse_tree:.2f}, RMSE: {rmse_tree:.2f}, R²: {r2_tree:.4f}\")"
   ]
  },
  {
   "cell_type": "markdown",
   "id": "c5e6588f-2f28-4d2b-9977-f9bfee7192e9",
   "metadata": {
    "id": "c5e6588f-2f28-4d2b-9977-f9bfee7192e9"
   },
   "source": [
    "#### Random Forest Regressor + Feature Importance"
   ]
  },
  {
   "cell_type": "code",
   "execution_count": 20,
   "id": "e9251242-1127-40fa-b93b-a60bc961f74b",
   "metadata": {
    "id": "e9251242-1127-40fa-b93b-a60bc961f74b"
   },
   "outputs": [],
   "source": [
    "from sklearn.ensemble import RandomForestRegressor"
   ]
  },
  {
   "cell_type": "code",
   "execution_count": 21,
   "id": "7951c02d-cc0b-4dac-8403-3651913e081a",
   "metadata": {
    "id": "7951c02d-cc0b-4dac-8403-3651913e081a"
   },
   "outputs": [],
   "source": [
    "# Hyperparameter tuning\n",
    "param_rf = {\n",
    "    'n_estimators': [100, 200],\n",
    "    'max_depth': [5, 10, None],\n",
    "    'min_samples_split': [2, 5]\n",
    "}"
   ]
  },
  {
   "cell_type": "code",
   "execution_count": 22,
   "id": "10a72bb0-9d14-463f-8b1b-46a49c39af00",
   "metadata": {
    "id": "10a72bb0-9d14-463f-8b1b-46a49c39af00"
   },
   "outputs": [],
   "source": [
    "rf = RandomForestRegressor(random_state=42)\n",
    "grid_rf = GridSearchCV(rf, param_rf, cv=3)\n",
    "grid_rf.fit(X_train, y_train)\n",
    "y_pred_rf = grid_rf.predict(X_test)"
   ]
  },
  {
   "cell_type": "code",
   "execution_count": 23,
   "id": "aa5a523c-eaae-4132-ae64-0dbf1bf07c61",
   "metadata": {
    "id": "aa5a523c-eaae-4132-ae64-0dbf1bf07c61"
   },
   "outputs": [],
   "source": [
    "# Evaluation\n",
    "mae_rf = mean_absolute_error(y_test, y_pred_rf)\n",
    "mse_rf = mean_squared_error(y_test, y_pred_rf)\n",
    "rmse_rf = np.sqrt(mse_rf)\n",
    "r2_rf = r2_score(y_test, y_pred_rf)"
   ]
  },
  {
   "cell_type": "code",
   "execution_count": 24,
   "id": "621ebc25-8450-4a5d-a309-114354b17ead",
   "metadata": {
    "id": "621ebc25-8450-4a5d-a309-114354b17ead",
    "outputId": "410d8555-cf4b-4343-8a65-0f257197b59c"
   },
   "outputs": [
    {
     "name": "stdout",
     "output_type": "stream",
     "text": [
      "Random Forest Performance:\n",
      "MAE: 7.57, MSE: 148.55, RMSE: 12.19, R²: 0.9555\n"
     ]
    }
   ],
   "source": [
    "print(\"Random Forest Performance:\")\n",
    "print(f\"MAE: {mae_rf:.2f}, MSE: {mse_rf:.2f}, RMSE: {rmse_rf:.2f}, R²: {r2_rf:.4f}\")"
   ]
  },
  {
   "cell_type": "code",
   "execution_count": 25,
   "id": "d23e1c85-0ac2-416a-b1ca-03881b55d685",
   "metadata": {
    "id": "d23e1c85-0ac2-416a-b1ca-03881b55d685"
   },
   "outputs": [],
   "source": [
    "# Feature Importance\n",
    "import matplotlib.pyplot as plt\n",
    "import seaborn as sns"
   ]
  },
  {
   "cell_type": "code",
   "execution_count": 26,
   "id": "2d122dd0-73f4-49df-b0af-cfea382268e2",
   "metadata": {
    "id": "2d122dd0-73f4-49df-b0af-cfea382268e2"
   },
   "outputs": [],
   "source": [
    "feature_importance = grid_rf.best_estimator_.feature_importances_\n",
    "features_sorted = pd.Series(feature_importance, index=features).sort_values(ascending=False)"
   ]
  },
  {
   "cell_type": "code",
   "execution_count": 27,
   "id": "740d6973-ebf3-494c-9567-0af0f8cafbe9",
   "metadata": {
    "id": "740d6973-ebf3-494c-9567-0af0f8cafbe9",
    "outputId": "35faf374-2d34-4e38-9cc0-ead870a611ad"
   },
   "outputs": [
    {
     "data": {
      "image/png": "[encoded data removed]",
      "text/plain": [
       "<Figure size 800x500 with 1 Axes>"
      ]
     },
     "metadata": {},
     "output_type": "display_data"
    }
   ],
   "source": [
    "# Plot\n",
    "plt.figure(figsize=(8, 5))\n",
    "sns.barplot(x=features_sorted.values, y=features_sorted.index)\n",
    "plt.title(\"Random Forest Feature Importances\")\n",
    "plt.xlabel(\"Importance\")\n",
    "plt.ylabel(\"Feature\")\n",
    "plt.tight_layout()\n",
    "plt.show()"
   ]
  },
  {
   "cell_type": "markdown",
   "id": "26ea9bd4-67ea-43a1-a9af-f9a465b74599",
   "metadata": {
    "id": "26ea9bd4-67ea-43a1-a9af-f9a465b74599"
   },
   "source": [
    "## Conclusion\n",
    "In this study, we successfully developed predictive models for TSLA stock prices using time-series historical data enriched with lag features and technical indicators. Among the models tested, the Random Forest Regressor demonstrated superior performance, yielding lower error rates and higher R² compared to Linear Regression and Decision Tree models. This suggests that ensemble methods can effectively capture complex, non-linear patterns in stock price movements. Furthermore, the feature importance analysis provided valuable insights into which lag and technical indicators most influence price prediction. Overall, this project showcases the practical application of machine learning in financial forecasting and lays the groundwork for building more robust and scalable trading decision systems in the future."
   ]
  },
  {
   "cell_type": "code",
   "execution_count": null,
   "id": "f9a9f89c-ea1a-468e-bc1b-89ae5e0ca356",
   "metadata": {
    "id": "f9a9f89c-ea1a-468e-bc1b-89ae5e0ca356"
   },
   "outputs": [],
   "source": []
  }
 ],
 "metadata": {
  "colab": {
   "provenance": []
  },
  "kernelspec": {
   "display_name": "Python 3 (ipykernel)",
   "language": "python",
   "name": "python3"
  },
  "language_info": {
   "codemirror_mode": {
    "name": "ipython",
    "version": 3
   },
   "file_extension": ".py",
   "mimetype": "text/x-python",
   "name": "python",
   "nbconvert_exporter": "python",
   "pygments_lexer": "ipython3",
   "version": "3.12.10"
  }
 },
 "nbformat": 4,
 "nbformat_minor": 5
}
